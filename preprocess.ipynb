{
 "cells": [
  {
   "cell_type": "code",
   "execution_count": 1,
   "metadata": {},
   "outputs": [],
   "source": [
    "import pandas as pd\n",
    "def load_tech():\n",
    "    return (\n",
    "        pd.read_csv(\"./dataframes/tech_coeff_pri.csv\"), \n",
    "        pd.read_csv(\"./dataframes/tech_coeff_sec.csv\"),\n",
    "        pd.read_csv(\"./dataframes/tech_coeff_ter.csv\"),\n",
    "        pd.read_csv(\"./dataframes/reuse.csv\")\n",
    "        )"
   ]
  },
  {
   "cell_type": "code",
   "execution_count": 2,
   "metadata": {},
   "outputs": [],
   "source": [
    "df = pd.read_csv(\"temp.csv\")"
   ]
  },
  {
   "cell_type": "code",
   "execution_count": 4,
   "metadata": {},
   "outputs": [
    {
     "name": "stderr",
     "output_type": "stream",
     "text": [
      "c:\\Users\\vedan\\AppData\\Local\\Programs\\Python\\Python38\\lib\\site-packages\\xarray\\backends\\cfgrib_.py:27: UserWarning:\n",
      "\n",
      "Failed to load cfgrib - most likely there is a problem accessing the ecCodes library. Try `import cfgrib` to get the full error message\n",
      "\n"
     ]
    }
   ],
   "source": [
    "import plotly.graph_objects as go\n",
    "import plotly.express as px"
   ]
  },
  {
   "cell_type": "code",
   "execution_count": 4,
   "metadata": {},
   "outputs": [],
   "source": [
    "waste_labels = [\"BOD(mg/l)\", \"COD(mg/l)\", \"TSS(mg/l)\", \"TN(mg/l)\", \"FC(MPN/l)\"]\n",
    "dev_labels = ['Land', 'Power', 'Capital Cost', 'O&M Cost']"
   ]
  },
  {
   "cell_type": "code",
   "execution_count": 9,
   "metadata": {},
   "outputs": [
    {
     "data": {
      "text/plain": [
       "0    BOD(mg/l):4.18, COD(mg/l):7.76, TSS(mg/l):6.74...\n",
       "1    BOD(mg/l):0.66, COD(mg/l):2.12, TSS(mg/l):1.92...\n",
       "2    BOD(mg/l):0.26, COD(mg/l):4.11, TSS(mg/l):0.26...\n",
       "3    BOD(mg/l):4.18, COD(mg/l):7.76, TSS(mg/l):6.74...\n",
       "4    BOD(mg/l):0.99, COD(mg/l):4.6, TSS(mg/l):1.04,...\n",
       "5    BOD(mg/l):0.11, COD(mg/l):7.76, TSS(mg/l):0.04...\n",
       "dtype: object"
      ]
     },
     "execution_count": 9,
     "metadata": {},
     "output_type": "execute_result"
    }
   ],
   "source": [
    "df[waste_labels].apply(lambda x: \", \".join([f\"{label}:{round(x[label], 2)}\" for label in x.index]), axis=1)"
   ]
  },
  {
   "cell_type": "code",
   "execution_count": 10,
   "metadata": {},
   "outputs": [
    {
     "data": {
      "text/html": [
       "<div>\n",
       "<style scoped>\n",
       "    .dataframe tbody tr th:only-of-type {\n",
       "        vertical-align: middle;\n",
       "    }\n",
       "\n",
       "    .dataframe tbody tr th {\n",
       "        vertical-align: top;\n",
       "    }\n",
       "\n",
       "    .dataframe thead th {\n",
       "        text-align: right;\n",
       "    }\n",
       "</style>\n",
       "<table border=\"1\" class=\"dataframe\">\n",
       "  <thead>\n",
       "    <tr style=\"text-align: right;\">\n",
       "      <th></th>\n",
       "      <th>Unnamed: 0</th>\n",
       "      <th>Tech Stack</th>\n",
       "      <th>BOD(mg/l)</th>\n",
       "      <th>COD(mg/l)</th>\n",
       "      <th>TSS(mg/l)</th>\n",
       "      <th>TN(mg/l)</th>\n",
       "      <th>FC(MPN/l)</th>\n",
       "      <th>Land</th>\n",
       "      <th>Power</th>\n",
       "      <th>Capital Cost</th>\n",
       "      <th>O&amp;M Cost</th>\n",
       "      <th>text</th>\n",
       "    </tr>\n",
       "  </thead>\n",
       "  <tbody>\n",
       "    <tr>\n",
       "      <th>0</th>\n",
       "      <td>0</td>\n",
       "      <td>SBT+None+None</td>\n",
       "      <td>4.182200</td>\n",
       "      <td>7.7602</td>\n",
       "      <td>6.739200</td>\n",
       "      <td>3.3000</td>\n",
       "      <td>99.80</td>\n",
       "      <td>50399999</td>\n",
       "      <td>261360</td>\n",
       "      <td>1718400000</td>\n",
       "      <td>172799999</td>\n",
       "      <td>NaN</td>\n",
       "    </tr>\n",
       "    <tr>\n",
       "      <th>1</th>\n",
       "      <td>1</td>\n",
       "      <td>BIOFOR-F+None+None</td>\n",
       "      <td>0.660000</td>\n",
       "      <td>2.1160</td>\n",
       "      <td>1.920000</td>\n",
       "      <td>3.3000</td>\n",
       "      <td>99.80</td>\n",
       "      <td>134400000</td>\n",
       "      <td>388800</td>\n",
       "      <td>2234400000</td>\n",
       "      <td>153600000</td>\n",
       "      <td>NaN</td>\n",
       "    </tr>\n",
       "    <tr>\n",
       "      <th>2</th>\n",
       "      <td>2</td>\n",
       "      <td>A2O+None+None</td>\n",
       "      <td>0.257400</td>\n",
       "      <td>4.1124</td>\n",
       "      <td>0.259200</td>\n",
       "      <td>2.5399</td>\n",
       "      <td>1297.40</td>\n",
       "      <td>100799999</td>\n",
       "      <td>367200</td>\n",
       "      <td>2580000000</td>\n",
       "      <td>240000000</td>\n",
       "      <td>NaN</td>\n",
       "    </tr>\n",
       "    <tr>\n",
       "      <th>3</th>\n",
       "      <td>3</td>\n",
       "      <td>SBT+MLE+None</td>\n",
       "      <td>4.182200</td>\n",
       "      <td>7.7602</td>\n",
       "      <td>6.739200</td>\n",
       "      <td>0.8085</td>\n",
       "      <td>9.98</td>\n",
       "      <td>117600000</td>\n",
       "      <td>520560</td>\n",
       "      <td>3158400000</td>\n",
       "      <td>460799999</td>\n",
       "      <td>NaN</td>\n",
       "    </tr>\n",
       "    <tr>\n",
       "      <th>4</th>\n",
       "      <td>4</td>\n",
       "      <td>SBR+None+None</td>\n",
       "      <td>0.990000</td>\n",
       "      <td>4.6000</td>\n",
       "      <td>1.039200</td>\n",
       "      <td>2.7500</td>\n",
       "      <td>99.80</td>\n",
       "      <td>92400000</td>\n",
       "      <td>324000</td>\n",
       "      <td>3223200000</td>\n",
       "      <td>153600000</td>\n",
       "      <td>NaN</td>\n",
       "    </tr>\n",
       "    <tr>\n",
       "      <th>5</th>\n",
       "      <td>5</td>\n",
       "      <td>SBT+WUHERMAN+None</td>\n",
       "      <td>0.112919</td>\n",
       "      <td>7.7602</td>\n",
       "      <td>0.040435</td>\n",
       "      <td>0.3663</td>\n",
       "      <td>9.98</td>\n",
       "      <td>117600000</td>\n",
       "      <td>520560</td>\n",
       "      <td>3398400000</td>\n",
       "      <td>460799999</td>\n",
       "      <td>NaN</td>\n",
       "    </tr>\n",
       "  </tbody>\n",
       "</table>\n",
       "</div>"
      ],
      "text/plain": [
       "   Unnamed: 0          Tech Stack  BOD(mg/l)  COD(mg/l)  TSS(mg/l)  TN(mg/l)  \\\n",
       "0           0       SBT+None+None   4.182200     7.7602   6.739200    3.3000   \n",
       "1           1  BIOFOR-F+None+None   0.660000     2.1160   1.920000    3.3000   \n",
       "2           2       A2O+None+None   0.257400     4.1124   0.259200    2.5399   \n",
       "3           3        SBT+MLE+None   4.182200     7.7602   6.739200    0.8085   \n",
       "4           4       SBR+None+None   0.990000     4.6000   1.039200    2.7500   \n",
       "5           5   SBT+WUHERMAN+None   0.112919     7.7602   0.040435    0.3663   \n",
       "\n",
       "   FC(MPN/l)       Land   Power  Capital Cost   O&M Cost text  \n",
       "0      99.80   50399999  261360    1718400000  172799999  NaN  \n",
       "1      99.80  134400000  388800    2234400000  153600000  NaN  \n",
       "2    1297.40  100799999  367200    2580000000  240000000  NaN  \n",
       "3       9.98  117600000  520560    3158400000  460799999  NaN  \n",
       "4      99.80   92400000  324000    3223200000  153600000  NaN  \n",
       "5       9.98  117600000  520560    3398400000  460799999  NaN  "
      ]
     },
     "execution_count": 10,
     "metadata": {},
     "output_type": "execute_result"
    }
   ],
   "source": [
    "df"
   ]
  },
  {
   "cell_type": "code",
   "execution_count": 16,
   "metadata": {},
   "outputs": [
    {
     "data": {
      "application/vnd.plotly.v1+json": {
       "config": {
        "plotlyServerURL": "https://plot.ly"
       },
       "data": [
        {
         "marker": {
          "color": [
           261360,
           388800,
           367200,
           520560,
           324000,
           520560
          ],
          "size": [
           18.74999962797619,
           50,
           37.49999962797619,
           43.75,
           34.375,
           43.75
          ]
         },
         "mode": "markers",
         "text": [
          "BOD(mg/l):4.18, COD(mg/l):7.76, TSS(mg/l):6.74, TN(mg/l):3.3, FC(MPN/l):99.8",
          "BOD(mg/l):0.66, COD(mg/l):2.12, TSS(mg/l):1.92, TN(mg/l):3.3, FC(MPN/l):99.8",
          "BOD(mg/l):0.26, COD(mg/l):4.11, TSS(mg/l):0.26, TN(mg/l):2.54, FC(MPN/l):1297.4",
          "BOD(mg/l):4.18, COD(mg/l):7.76, TSS(mg/l):6.74, TN(mg/l):0.81, FC(MPN/l):9.98",
          "BOD(mg/l):0.99, COD(mg/l):4.6, TSS(mg/l):1.04, TN(mg/l):2.75, FC(MPN/l):99.8",
          "BOD(mg/l):0.11, COD(mg/l):7.76, TSS(mg/l):0.04, TN(mg/l):0.37, FC(MPN/l):9.98"
         ],
         "type": "scatter",
         "x": [
          1718400000,
          2234400000,
          2580000000,
          3158400000,
          3223200000,
          3398400000
         ],
         "y": [
          172799999,
          153600000,
          240000000,
          460799999,
          153600000,
          460799999
         ]
        }
       ],
       "layout": {
        "template": {
         "data": {
          "bar": [
           {
            "error_x": {
             "color": "#2a3f5f"
            },
            "error_y": {
             "color": "#2a3f5f"
            },
            "marker": {
             "line": {
              "color": "#E5ECF6",
              "width": 0.5
             }
            },
            "type": "bar"
           }
          ],
          "barpolar": [
           {
            "marker": {
             "line": {
              "color": "#E5ECF6",
              "width": 0.5
             }
            },
            "type": "barpolar"
           }
          ],
          "carpet": [
           {
            "aaxis": {
             "endlinecolor": "#2a3f5f",
             "gridcolor": "white",
             "linecolor": "white",
             "minorgridcolor": "white",
             "startlinecolor": "#2a3f5f"
            },
            "baxis": {
             "endlinecolor": "#2a3f5f",
             "gridcolor": "white",
             "linecolor": "white",
             "minorgridcolor": "white",
             "startlinecolor": "#2a3f5f"
            },
            "type": "carpet"
           }
          ],
          "choropleth": [
           {
            "colorbar": {
             "outlinewidth": 0,
             "ticks": ""
            },
            "type": "choropleth"
           }
          ],
          "contour": [
           {
            "colorbar": {
             "outlinewidth": 0,
             "ticks": ""
            },
            "colorscale": [
             [
              0,
              "#0d0887"
             ],
             [
              0.1111111111111111,
              "#46039f"
             ],
             [
              0.2222222222222222,
              "#7201a8"
             ],
             [
              0.3333333333333333,
              "#9c179e"
             ],
             [
              0.4444444444444444,
              "#bd3786"
             ],
             [
              0.5555555555555556,
              "#d8576b"
             ],
             [
              0.6666666666666666,
              "#ed7953"
             ],
             [
              0.7777777777777778,
              "#fb9f3a"
             ],
             [
              0.8888888888888888,
              "#fdca26"
             ],
             [
              1,
              "#f0f921"
             ]
            ],
            "type": "contour"
           }
          ],
          "contourcarpet": [
           {
            "colorbar": {
             "outlinewidth": 0,
             "ticks": ""
            },
            "type": "contourcarpet"
           }
          ],
          "heatmap": [
           {
            "colorbar": {
             "outlinewidth": 0,
             "ticks": ""
            },
            "colorscale": [
             [
              0,
              "#0d0887"
             ],
             [
              0.1111111111111111,
              "#46039f"
             ],
             [
              0.2222222222222222,
              "#7201a8"
             ],
             [
              0.3333333333333333,
              "#9c179e"
             ],
             [
              0.4444444444444444,
              "#bd3786"
             ],
             [
              0.5555555555555556,
              "#d8576b"
             ],
             [
              0.6666666666666666,
              "#ed7953"
             ],
             [
              0.7777777777777778,
              "#fb9f3a"
             ],
             [
              0.8888888888888888,
              "#fdca26"
             ],
             [
              1,
              "#f0f921"
             ]
            ],
            "type": "heatmap"
           }
          ],
          "heatmapgl": [
           {
            "colorbar": {
             "outlinewidth": 0,
             "ticks": ""
            },
            "colorscale": [
             [
              0,
              "#0d0887"
             ],
             [
              0.1111111111111111,
              "#46039f"
             ],
             [
              0.2222222222222222,
              "#7201a8"
             ],
             [
              0.3333333333333333,
              "#9c179e"
             ],
             [
              0.4444444444444444,
              "#bd3786"
             ],
             [
              0.5555555555555556,
              "#d8576b"
             ],
             [
              0.6666666666666666,
              "#ed7953"
             ],
             [
              0.7777777777777778,
              "#fb9f3a"
             ],
             [
              0.8888888888888888,
              "#fdca26"
             ],
             [
              1,
              "#f0f921"
             ]
            ],
            "type": "heatmapgl"
           }
          ],
          "histogram": [
           {
            "marker": {
             "colorbar": {
              "outlinewidth": 0,
              "ticks": ""
             }
            },
            "type": "histogram"
           }
          ],
          "histogram2d": [
           {
            "colorbar": {
             "outlinewidth": 0,
             "ticks": ""
            },
            "colorscale": [
             [
              0,
              "#0d0887"
             ],
             [
              0.1111111111111111,
              "#46039f"
             ],
             [
              0.2222222222222222,
              "#7201a8"
             ],
             [
              0.3333333333333333,
              "#9c179e"
             ],
             [
              0.4444444444444444,
              "#bd3786"
             ],
             [
              0.5555555555555556,
              "#d8576b"
             ],
             [
              0.6666666666666666,
              "#ed7953"
             ],
             [
              0.7777777777777778,
              "#fb9f3a"
             ],
             [
              0.8888888888888888,
              "#fdca26"
             ],
             [
              1,
              "#f0f921"
             ]
            ],
            "type": "histogram2d"
           }
          ],
          "histogram2dcontour": [
           {
            "colorbar": {
             "outlinewidth": 0,
             "ticks": ""
            },
            "colorscale": [
             [
              0,
              "#0d0887"
             ],
             [
              0.1111111111111111,
              "#46039f"
             ],
             [
              0.2222222222222222,
              "#7201a8"
             ],
             [
              0.3333333333333333,
              "#9c179e"
             ],
             [
              0.4444444444444444,
              "#bd3786"
             ],
             [
              0.5555555555555556,
              "#d8576b"
             ],
             [
              0.6666666666666666,
              "#ed7953"
             ],
             [
              0.7777777777777778,
              "#fb9f3a"
             ],
             [
              0.8888888888888888,
              "#fdca26"
             ],
             [
              1,
              "#f0f921"
             ]
            ],
            "type": "histogram2dcontour"
           }
          ],
          "mesh3d": [
           {
            "colorbar": {
             "outlinewidth": 0,
             "ticks": ""
            },
            "type": "mesh3d"
           }
          ],
          "parcoords": [
           {
            "line": {
             "colorbar": {
              "outlinewidth": 0,
              "ticks": ""
             }
            },
            "type": "parcoords"
           }
          ],
          "pie": [
           {
            "automargin": true,
            "type": "pie"
           }
          ],
          "scatter": [
           {
            "marker": {
             "colorbar": {
              "outlinewidth": 0,
              "ticks": ""
             }
            },
            "type": "scatter"
           }
          ],
          "scatter3d": [
           {
            "line": {
             "colorbar": {
              "outlinewidth": 0,
              "ticks": ""
             }
            },
            "marker": {
             "colorbar": {
              "outlinewidth": 0,
              "ticks": ""
             }
            },
            "type": "scatter3d"
           }
          ],
          "scattercarpet": [
           {
            "marker": {
             "colorbar": {
              "outlinewidth": 0,
              "ticks": ""
             }
            },
            "type": "scattercarpet"
           }
          ],
          "scattergeo": [
           {
            "marker": {
             "colorbar": {
              "outlinewidth": 0,
              "ticks": ""
             }
            },
            "type": "scattergeo"
           }
          ],
          "scattergl": [
           {
            "marker": {
             "colorbar": {
              "outlinewidth": 0,
              "ticks": ""
             }
            },
            "type": "scattergl"
           }
          ],
          "scattermapbox": [
           {
            "marker": {
             "colorbar": {
              "outlinewidth": 0,
              "ticks": ""
             }
            },
            "type": "scattermapbox"
           }
          ],
          "scatterpolar": [
           {
            "marker": {
             "colorbar": {
              "outlinewidth": 0,
              "ticks": ""
             }
            },
            "type": "scatterpolar"
           }
          ],
          "scatterpolargl": [
           {
            "marker": {
             "colorbar": {
              "outlinewidth": 0,
              "ticks": ""
             }
            },
            "type": "scatterpolargl"
           }
          ],
          "scatterternary": [
           {
            "marker": {
             "colorbar": {
              "outlinewidth": 0,
              "ticks": ""
             }
            },
            "type": "scatterternary"
           }
          ],
          "surface": [
           {
            "colorbar": {
             "outlinewidth": 0,
             "ticks": ""
            },
            "colorscale": [
             [
              0,
              "#0d0887"
             ],
             [
              0.1111111111111111,
              "#46039f"
             ],
             [
              0.2222222222222222,
              "#7201a8"
             ],
             [
              0.3333333333333333,
              "#9c179e"
             ],
             [
              0.4444444444444444,
              "#bd3786"
             ],
             [
              0.5555555555555556,
              "#d8576b"
             ],
             [
              0.6666666666666666,
              "#ed7953"
             ],
             [
              0.7777777777777778,
              "#fb9f3a"
             ],
             [
              0.8888888888888888,
              "#fdca26"
             ],
             [
              1,
              "#f0f921"
             ]
            ],
            "type": "surface"
           }
          ],
          "table": [
           {
            "cells": {
             "fill": {
              "color": "#EBF0F8"
             },
             "line": {
              "color": "white"
             }
            },
            "header": {
             "fill": {
              "color": "#C8D4E3"
             },
             "line": {
              "color": "white"
             }
            },
            "type": "table"
           }
          ]
         },
         "layout": {
          "annotationdefaults": {
           "arrowcolor": "#2a3f5f",
           "arrowhead": 0,
           "arrowwidth": 1
          },
          "autotypenumbers": "strict",
          "coloraxis": {
           "colorbar": {
            "outlinewidth": 0,
            "ticks": ""
           }
          },
          "colorscale": {
           "diverging": [
            [
             0,
             "#8e0152"
            ],
            [
             0.1,
             "#c51b7d"
            ],
            [
             0.2,
             "#de77ae"
            ],
            [
             0.3,
             "#f1b6da"
            ],
            [
             0.4,
             "#fde0ef"
            ],
            [
             0.5,
             "#f7f7f7"
            ],
            [
             0.6,
             "#e6f5d0"
            ],
            [
             0.7,
             "#b8e186"
            ],
            [
             0.8,
             "#7fbc41"
            ],
            [
             0.9,
             "#4d9221"
            ],
            [
             1,
             "#276419"
            ]
           ],
           "sequential": [
            [
             0,
             "#0d0887"
            ],
            [
             0.1111111111111111,
             "#46039f"
            ],
            [
             0.2222222222222222,
             "#7201a8"
            ],
            [
             0.3333333333333333,
             "#9c179e"
            ],
            [
             0.4444444444444444,
             "#bd3786"
            ],
            [
             0.5555555555555556,
             "#d8576b"
            ],
            [
             0.6666666666666666,
             "#ed7953"
            ],
            [
             0.7777777777777778,
             "#fb9f3a"
            ],
            [
             0.8888888888888888,
             "#fdca26"
            ],
            [
             1,
             "#f0f921"
            ]
           ],
           "sequentialminus": [
            [
             0,
             "#0d0887"
            ],
            [
             0.1111111111111111,
             "#46039f"
            ],
            [
             0.2222222222222222,
             "#7201a8"
            ],
            [
             0.3333333333333333,
             "#9c179e"
            ],
            [
             0.4444444444444444,
             "#bd3786"
            ],
            [
             0.5555555555555556,
             "#d8576b"
            ],
            [
             0.6666666666666666,
             "#ed7953"
            ],
            [
             0.7777777777777778,
             "#fb9f3a"
            ],
            [
             0.8888888888888888,
             "#fdca26"
            ],
            [
             1,
             "#f0f921"
            ]
           ]
          },
          "colorway": [
           "#636efa",
           "#EF553B",
           "#00cc96",
           "#ab63fa",
           "#FFA15A",
           "#19d3f3",
           "#FF6692",
           "#B6E880",
           "#FF97FF",
           "#FECB52"
          ],
          "font": {
           "color": "#2a3f5f"
          },
          "geo": {
           "bgcolor": "white",
           "lakecolor": "white",
           "landcolor": "#E5ECF6",
           "showlakes": true,
           "showland": true,
           "subunitcolor": "white"
          },
          "hoverlabel": {
           "align": "left"
          },
          "hovermode": "closest",
          "mapbox": {
           "style": "light"
          },
          "paper_bgcolor": "white",
          "plot_bgcolor": "#E5ECF6",
          "polar": {
           "angularaxis": {
            "gridcolor": "white",
            "linecolor": "white",
            "ticks": ""
           },
           "bgcolor": "#E5ECF6",
           "radialaxis": {
            "gridcolor": "white",
            "linecolor": "white",
            "ticks": ""
           }
          },
          "scene": {
           "xaxis": {
            "backgroundcolor": "#E5ECF6",
            "gridcolor": "white",
            "gridwidth": 2,
            "linecolor": "white",
            "showbackground": true,
            "ticks": "",
            "zerolinecolor": "white"
           },
           "yaxis": {
            "backgroundcolor": "#E5ECF6",
            "gridcolor": "white",
            "gridwidth": 2,
            "linecolor": "white",
            "showbackground": true,
            "ticks": "",
            "zerolinecolor": "white"
           },
           "zaxis": {
            "backgroundcolor": "#E5ECF6",
            "gridcolor": "white",
            "gridwidth": 2,
            "linecolor": "white",
            "showbackground": true,
            "ticks": "",
            "zerolinecolor": "white"
           }
          },
          "shapedefaults": {
           "line": {
            "color": "#2a3f5f"
           }
          },
          "ternary": {
           "aaxis": {
            "gridcolor": "white",
            "linecolor": "white",
            "ticks": ""
           },
           "baxis": {
            "gridcolor": "white",
            "linecolor": "white",
            "ticks": ""
           },
           "bgcolor": "#E5ECF6",
           "caxis": {
            "gridcolor": "white",
            "linecolor": "white",
            "ticks": ""
           }
          },
          "title": {
           "x": 0.05
          },
          "xaxis": {
           "automargin": true,
           "gridcolor": "white",
           "linecolor": "white",
           "ticks": "",
           "title": {
            "standoff": 15
           },
           "zerolinecolor": "white",
           "zerolinewidth": 2
          },
          "yaxis": {
           "automargin": true,
           "gridcolor": "white",
           "linecolor": "white",
           "ticks": "",
           "title": {
            "standoff": 15
           },
           "zerolinecolor": "white",
           "zerolinewidth": 2
          }
         }
        },
        "xaxis": {
         "showgrid": false
        },
        "yaxis": {
         "showgrid": false
        }
       }
      }
     },
     "metadata": {},
     "output_type": "display_data"
    }
   ],
   "source": [
    "df[\"text\"] = df[waste_labels].apply(lambda x: \", \".join([f\"{label}:{round(x[label], 2)}\" for label in x.index]), axis=1)\n",
    "\n",
    "max_size = df[\"Land\"].max()\n",
    "\n",
    "fig = go.Figure([go.Scatter(\n",
    "    x=df[\"Capital Cost\"].to_list(),\n",
    "    y=df[\"O&M Cost\"].to_list(),\n",
    "    text=df[\"text\"].to_list(),\n",
    "    mode=\"markers\",\n",
    "    marker=dict(\n",
    "        size=df[\"Land\"].apply(lambda x: x*50/max_size).to_list(),\n",
    "        color=df[\"Power\"].to_list()\n",
    "    )\n",
    ")])\n",
    "\n",
    "fig.update_xaxes(showgrid=False)\n",
    "\n",
    "fig.update_yaxes(showgrid=False)\n",
    "fig.show()"
   ]
  },
  {
   "cell_type": "code",
   "execution_count": 27,
   "metadata": {},
   "outputs": [
    {
     "data": {
      "application/vnd.plotly.v1+json": {
       "config": {
        "plotlyServerURL": "https://plot.ly"
       },
       "data": [
        {
         "customdata": [
          [
           "BOD(mg/l):4.18,\nCOD(mg/l):7.76,\nTSS(mg/l):6.74,\nTN(mg/l):3.3,\nFC(MPN/l):99.8"
          ],
          [
           "BOD(mg/l):0.66,\nCOD(mg/l):2.12,\nTSS(mg/l):1.92,\nTN(mg/l):3.3,\nFC(MPN/l):99.8"
          ],
          [
           "BOD(mg/l):0.26,\nCOD(mg/l):4.11,\nTSS(mg/l):0.26,\nTN(mg/l):2.54,\nFC(MPN/l):1297.4"
          ],
          [
           "BOD(mg/l):4.18,\nCOD(mg/l):7.76,\nTSS(mg/l):6.74,\nTN(mg/l):0.81,\nFC(MPN/l):9.98"
          ],
          [
           "BOD(mg/l):0.99,\nCOD(mg/l):4.6,\nTSS(mg/l):1.04,\nTN(mg/l):2.75,\nFC(MPN/l):99.8"
          ],
          [
           "BOD(mg/l):0.11,\nCOD(mg/l):7.76,\nTSS(mg/l):0.04,\nTN(mg/l):0.37,\nFC(MPN/l):9.98"
          ]
         ],
         "hovertemplate": "Capital Cost=%{x}<br>O&M Cost=%{y}<br>size=%{marker.size}<br>after treatment=%{customdata[0]}<br>Power=%{marker.color}<extra></extra>",
         "legendgroup": "",
         "marker": {
          "color": [
           261360,
           388800,
           367200,
           520560,
           324000,
           520560
          ],
          "coloraxis": "coloraxis",
          "size": [
           18.75,
           50,
           37.5,
           43.75,
           34.38,
           43.75
          ],
          "sizemode": "area",
          "sizeref": 0.125,
          "symbol": "circle"
         },
         "mode": "markers",
         "name": "",
         "orientation": "v",
         "showlegend": false,
         "type": "scatter",
         "x": [
          1718400000,
          2234400000,
          2580000000,
          3158400000,
          3223200000,
          3398400000
         ],
         "xaxis": "x",
         "y": [
          172799999,
          153600000,
          240000000,
          460799999,
          153600000,
          460799999
         ],
         "yaxis": "y"
        }
       ],
       "layout": {
        "coloraxis": {
         "colorbar": {
          "title": {
           "text": "Power"
          }
         },
         "colorscale": [
          [
           0,
           "#0d0887"
          ],
          [
           0.1111111111111111,
           "#46039f"
          ],
          [
           0.2222222222222222,
           "#7201a8"
          ],
          [
           0.3333333333333333,
           "#9c179e"
          ],
          [
           0.4444444444444444,
           "#bd3786"
          ],
          [
           0.5555555555555556,
           "#d8576b"
          ],
          [
           0.6666666666666666,
           "#ed7953"
          ],
          [
           0.7777777777777778,
           "#fb9f3a"
          ],
          [
           0.8888888888888888,
           "#fdca26"
          ],
          [
           1,
           "#f0f921"
          ]
         ]
        },
        "legend": {
         "itemsizing": "constant",
         "tracegroupgap": 0
        },
        "margin": {
         "t": 60
        },
        "template": {
         "data": {
          "bar": [
           {
            "error_x": {
             "color": "#2a3f5f"
            },
            "error_y": {
             "color": "#2a3f5f"
            },
            "marker": {
             "line": {
              "color": "#E5ECF6",
              "width": 0.5
             }
            },
            "type": "bar"
           }
          ],
          "barpolar": [
           {
            "marker": {
             "line": {
              "color": "#E5ECF6",
              "width": 0.5
             }
            },
            "type": "barpolar"
           }
          ],
          "carpet": [
           {
            "aaxis": {
             "endlinecolor": "#2a3f5f",
             "gridcolor": "white",
             "linecolor": "white",
             "minorgridcolor": "white",
             "startlinecolor": "#2a3f5f"
            },
            "baxis": {
             "endlinecolor": "#2a3f5f",
             "gridcolor": "white",
             "linecolor": "white",
             "minorgridcolor": "white",
             "startlinecolor": "#2a3f5f"
            },
            "type": "carpet"
           }
          ],
          "choropleth": [
           {
            "colorbar": {
             "outlinewidth": 0,
             "ticks": ""
            },
            "type": "choropleth"
           }
          ],
          "contour": [
           {
            "colorbar": {
             "outlinewidth": 0,
             "ticks": ""
            },
            "colorscale": [
             [
              0,
              "#0d0887"
             ],
             [
              0.1111111111111111,
              "#46039f"
             ],
             [
              0.2222222222222222,
              "#7201a8"
             ],
             [
              0.3333333333333333,
              "#9c179e"
             ],
             [
              0.4444444444444444,
              "#bd3786"
             ],
             [
              0.5555555555555556,
              "#d8576b"
             ],
             [
              0.6666666666666666,
              "#ed7953"
             ],
             [
              0.7777777777777778,
              "#fb9f3a"
             ],
             [
              0.8888888888888888,
              "#fdca26"
             ],
             [
              1,
              "#f0f921"
             ]
            ],
            "type": "contour"
           }
          ],
          "contourcarpet": [
           {
            "colorbar": {
             "outlinewidth": 0,
             "ticks": ""
            },
            "type": "contourcarpet"
           }
          ],
          "heatmap": [
           {
            "colorbar": {
             "outlinewidth": 0,
             "ticks": ""
            },
            "colorscale": [
             [
              0,
              "#0d0887"
             ],
             [
              0.1111111111111111,
              "#46039f"
             ],
             [
              0.2222222222222222,
              "#7201a8"
             ],
             [
              0.3333333333333333,
              "#9c179e"
             ],
             [
              0.4444444444444444,
              "#bd3786"
             ],
             [
              0.5555555555555556,
              "#d8576b"
             ],
             [
              0.6666666666666666,
              "#ed7953"
             ],
             [
              0.7777777777777778,
              "#fb9f3a"
             ],
             [
              0.8888888888888888,
              "#fdca26"
             ],
             [
              1,
              "#f0f921"
             ]
            ],
            "type": "heatmap"
           }
          ],
          "heatmapgl": [
           {
            "colorbar": {
             "outlinewidth": 0,
             "ticks": ""
            },
            "colorscale": [
             [
              0,
              "#0d0887"
             ],
             [
              0.1111111111111111,
              "#46039f"
             ],
             [
              0.2222222222222222,
              "#7201a8"
             ],
             [
              0.3333333333333333,
              "#9c179e"
             ],
             [
              0.4444444444444444,
              "#bd3786"
             ],
             [
              0.5555555555555556,
              "#d8576b"
             ],
             [
              0.6666666666666666,
              "#ed7953"
             ],
             [
              0.7777777777777778,
              "#fb9f3a"
             ],
             [
              0.8888888888888888,
              "#fdca26"
             ],
             [
              1,
              "#f0f921"
             ]
            ],
            "type": "heatmapgl"
           }
          ],
          "histogram": [
           {
            "marker": {
             "colorbar": {
              "outlinewidth": 0,
              "ticks": ""
             }
            },
            "type": "histogram"
           }
          ],
          "histogram2d": [
           {
            "colorbar": {
             "outlinewidth": 0,
             "ticks": ""
            },
            "colorscale": [
             [
              0,
              "#0d0887"
             ],
             [
              0.1111111111111111,
              "#46039f"
             ],
             [
              0.2222222222222222,
              "#7201a8"
             ],
             [
              0.3333333333333333,
              "#9c179e"
             ],
             [
              0.4444444444444444,
              "#bd3786"
             ],
             [
              0.5555555555555556,
              "#d8576b"
             ],
             [
              0.6666666666666666,
              "#ed7953"
             ],
             [
              0.7777777777777778,
              "#fb9f3a"
             ],
             [
              0.8888888888888888,
              "#fdca26"
             ],
             [
              1,
              "#f0f921"
             ]
            ],
            "type": "histogram2d"
           }
          ],
          "histogram2dcontour": [
           {
            "colorbar": {
             "outlinewidth": 0,
             "ticks": ""
            },
            "colorscale": [
             [
              0,
              "#0d0887"
             ],
             [
              0.1111111111111111,
              "#46039f"
             ],
             [
              0.2222222222222222,
              "#7201a8"
             ],
             [
              0.3333333333333333,
              "#9c179e"
             ],
             [
              0.4444444444444444,
              "#bd3786"
             ],
             [
              0.5555555555555556,
              "#d8576b"
             ],
             [
              0.6666666666666666,
              "#ed7953"
             ],
             [
              0.7777777777777778,
              "#fb9f3a"
             ],
             [
              0.8888888888888888,
              "#fdca26"
             ],
             [
              1,
              "#f0f921"
             ]
            ],
            "type": "histogram2dcontour"
           }
          ],
          "mesh3d": [
           {
            "colorbar": {
             "outlinewidth": 0,
             "ticks": ""
            },
            "type": "mesh3d"
           }
          ],
          "parcoords": [
           {
            "line": {
             "colorbar": {
              "outlinewidth": 0,
              "ticks": ""
             }
            },
            "type": "parcoords"
           }
          ],
          "pie": [
           {
            "automargin": true,
            "type": "pie"
           }
          ],
          "scatter": [
           {
            "marker": {
             "colorbar": {
              "outlinewidth": 0,
              "ticks": ""
             }
            },
            "type": "scatter"
           }
          ],
          "scatter3d": [
           {
            "line": {
             "colorbar": {
              "outlinewidth": 0,
              "ticks": ""
             }
            },
            "marker": {
             "colorbar": {
              "outlinewidth": 0,
              "ticks": ""
             }
            },
            "type": "scatter3d"
           }
          ],
          "scattercarpet": [
           {
            "marker": {
             "colorbar": {
              "outlinewidth": 0,
              "ticks": ""
             }
            },
            "type": "scattercarpet"
           }
          ],
          "scattergeo": [
           {
            "marker": {
             "colorbar": {
              "outlinewidth": 0,
              "ticks": ""
             }
            },
            "type": "scattergeo"
           }
          ],
          "scattergl": [
           {
            "marker": {
             "colorbar": {
              "outlinewidth": 0,
              "ticks": ""
             }
            },
            "type": "scattergl"
           }
          ],
          "scattermapbox": [
           {
            "marker": {
             "colorbar": {
              "outlinewidth": 0,
              "ticks": ""
             }
            },
            "type": "scattermapbox"
           }
          ],
          "scatterpolar": [
           {
            "marker": {
             "colorbar": {
              "outlinewidth": 0,
              "ticks": ""
             }
            },
            "type": "scatterpolar"
           }
          ],
          "scatterpolargl": [
           {
            "marker": {
             "colorbar": {
              "outlinewidth": 0,
              "ticks": ""
             }
            },
            "type": "scatterpolargl"
           }
          ],
          "scatterternary": [
           {
            "marker": {
             "colorbar": {
              "outlinewidth": 0,
              "ticks": ""
             }
            },
            "type": "scatterternary"
           }
          ],
          "surface": [
           {
            "colorbar": {
             "outlinewidth": 0,
             "ticks": ""
            },
            "colorscale": [
             [
              0,
              "#0d0887"
             ],
             [
              0.1111111111111111,
              "#46039f"
             ],
             [
              0.2222222222222222,
              "#7201a8"
             ],
             [
              0.3333333333333333,
              "#9c179e"
             ],
             [
              0.4444444444444444,
              "#bd3786"
             ],
             [
              0.5555555555555556,
              "#d8576b"
             ],
             [
              0.6666666666666666,
              "#ed7953"
             ],
             [
              0.7777777777777778,
              "#fb9f3a"
             ],
             [
              0.8888888888888888,
              "#fdca26"
             ],
             [
              1,
              "#f0f921"
             ]
            ],
            "type": "surface"
           }
          ],
          "table": [
           {
            "cells": {
             "fill": {
              "color": "#EBF0F8"
             },
             "line": {
              "color": "white"
             }
            },
            "header": {
             "fill": {
              "color": "#C8D4E3"
             },
             "line": {
              "color": "white"
             }
            },
            "type": "table"
           }
          ]
         },
         "layout": {
          "annotationdefaults": {
           "arrowcolor": "#2a3f5f",
           "arrowhead": 0,
           "arrowwidth": 1
          },
          "autotypenumbers": "strict",
          "coloraxis": {
           "colorbar": {
            "outlinewidth": 0,
            "ticks": ""
           }
          },
          "colorscale": {
           "diverging": [
            [
             0,
             "#8e0152"
            ],
            [
             0.1,
             "#c51b7d"
            ],
            [
             0.2,
             "#de77ae"
            ],
            [
             0.3,
             "#f1b6da"
            ],
            [
             0.4,
             "#fde0ef"
            ],
            [
             0.5,
             "#f7f7f7"
            ],
            [
             0.6,
             "#e6f5d0"
            ],
            [
             0.7,
             "#b8e186"
            ],
            [
             0.8,
             "#7fbc41"
            ],
            [
             0.9,
             "#4d9221"
            ],
            [
             1,
             "#276419"
            ]
           ],
           "sequential": [
            [
             0,
             "#0d0887"
            ],
            [
             0.1111111111111111,
             "#46039f"
            ],
            [
             0.2222222222222222,
             "#7201a8"
            ],
            [
             0.3333333333333333,
             "#9c179e"
            ],
            [
             0.4444444444444444,
             "#bd3786"
            ],
            [
             0.5555555555555556,
             "#d8576b"
            ],
            [
             0.6666666666666666,
             "#ed7953"
            ],
            [
             0.7777777777777778,
             "#fb9f3a"
            ],
            [
             0.8888888888888888,
             "#fdca26"
            ],
            [
             1,
             "#f0f921"
            ]
           ],
           "sequentialminus": [
            [
             0,
             "#0d0887"
            ],
            [
             0.1111111111111111,
             "#46039f"
            ],
            [
             0.2222222222222222,
             "#7201a8"
            ],
            [
             0.3333333333333333,
             "#9c179e"
            ],
            [
             0.4444444444444444,
             "#bd3786"
            ],
            [
             0.5555555555555556,
             "#d8576b"
            ],
            [
             0.6666666666666666,
             "#ed7953"
            ],
            [
             0.7777777777777778,
             "#fb9f3a"
            ],
            [
             0.8888888888888888,
             "#fdca26"
            ],
            [
             1,
             "#f0f921"
            ]
           ]
          },
          "colorway": [
           "#636efa",
           "#EF553B",
           "#00cc96",
           "#ab63fa",
           "#FFA15A",
           "#19d3f3",
           "#FF6692",
           "#B6E880",
           "#FF97FF",
           "#FECB52"
          ],
          "font": {
           "color": "#2a3f5f"
          },
          "geo": {
           "bgcolor": "white",
           "lakecolor": "white",
           "landcolor": "#E5ECF6",
           "showlakes": true,
           "showland": true,
           "subunitcolor": "white"
          },
          "hoverlabel": {
           "align": "left"
          },
          "hovermode": "closest",
          "mapbox": {
           "style": "light"
          },
          "paper_bgcolor": "white",
          "plot_bgcolor": "#E5ECF6",
          "polar": {
           "angularaxis": {
            "gridcolor": "white",
            "linecolor": "white",
            "ticks": ""
           },
           "bgcolor": "#E5ECF6",
           "radialaxis": {
            "gridcolor": "white",
            "linecolor": "white",
            "ticks": ""
           }
          },
          "scene": {
           "xaxis": {
            "backgroundcolor": "#E5ECF6",
            "gridcolor": "white",
            "gridwidth": 2,
            "linecolor": "white",
            "showbackground": true,
            "ticks": "",
            "zerolinecolor": "white"
           },
           "yaxis": {
            "backgroundcolor": "#E5ECF6",
            "gridcolor": "white",
            "gridwidth": 2,
            "linecolor": "white",
            "showbackground": true,
            "ticks": "",
            "zerolinecolor": "white"
           },
           "zaxis": {
            "backgroundcolor": "#E5ECF6",
            "gridcolor": "white",
            "gridwidth": 2,
            "linecolor": "white",
            "showbackground": true,
            "ticks": "",
            "zerolinecolor": "white"
           }
          },
          "shapedefaults": {
           "line": {
            "color": "#2a3f5f"
           }
          },
          "ternary": {
           "aaxis": {
            "gridcolor": "white",
            "linecolor": "white",
            "ticks": ""
           },
           "baxis": {
            "gridcolor": "white",
            "linecolor": "white",
            "ticks": ""
           },
           "bgcolor": "#E5ECF6",
           "caxis": {
            "gridcolor": "white",
            "linecolor": "white",
            "ticks": ""
           }
          },
          "title": {
           "x": 0.05
          },
          "xaxis": {
           "automargin": true,
           "gridcolor": "white",
           "linecolor": "white",
           "ticks": "",
           "title": {
            "standoff": 15
           },
           "zerolinecolor": "white",
           "zerolinewidth": 2
          },
          "yaxis": {
           "automargin": true,
           "gridcolor": "white",
           "linecolor": "white",
           "ticks": "",
           "title": {
            "standoff": 15
           },
           "zerolinecolor": "white",
           "zerolinewidth": 2
          }
         }
        },
        "xaxis": {
         "anchor": "y",
         "domain": [
          0,
          1
         ],
         "showgrid": false,
         "title": {
          "text": "Capital Cost"
         }
        },
        "yaxis": {
         "anchor": "x",
         "domain": [
          0,
          1
         ],
         "showgrid": false,
         "title": {
          "text": "O&M Cost"
         }
        }
       }
      }
     },
     "metadata": {},
     "output_type": "display_data"
    }
   ],
   "source": [
    "import plotly.express as px\n",
    "\n",
    "df[\"after treatment\"] = df[waste_labels].apply(lambda x: \",\\n\".join([f\"{label}:{round(x[label], 2)}\" for label in x.index]), axis=1)\n",
    "max_size = df[\"Land\"].max()\n",
    "df[\"size\"] = df[\"Land\"].apply(lambda x: round(x*50/max_size, 2))\n",
    "\n",
    "\n",
    "fig = px.scatter(\n",
    "    df,\n",
    "    x=\"Capital Cost\",\n",
    "    y=\"O&M Cost\",\n",
    "    size=\"size\",\n",
    "    color=\"Power\",\n",
    "    hover_data=[\"after treatment\"]\n",
    "    )\n",
    "\n",
    "fig.update_xaxes(showgrid=False)\n",
    "\n",
    "fig.update_yaxes(showgrid=False)\n",
    "fig.show()"
   ]
  },
  {
   "cell_type": "code",
   "execution_count": 5,
   "metadata": {},
   "outputs": [],
   "source": [
    "def build_scatter(df):\n",
    "    df[\"after treatment\"] = df[waste_labels].apply(lambda x: \",\\n\".join([f\"{label}:{round(x[label], 2)}\" for label in x.index]), axis=1)\n",
    "    max_size = df[\"Land\"].max()\n",
    "    df[\"size\"] = df[\"Land\"].apply(lambda x: round(x*50/max_size, 2))\n",
    "\n",
    "\n",
    "    fig = px.scatter(\n",
    "        df,\n",
    "        x=\"Capital Cost\",\n",
    "        y=\"O&M Cost\",\n",
    "        size=\"size\",\n",
    "        color=\"Power\",\n",
    "        hover_data=[\"after treatment\"]\n",
    "        )\n",
    "\n",
    "    fig.update_xaxes(showgrid=False)\n",
    "\n",
    "    fig.update_yaxes(showgrid=False)\n",
    "    fig.show()"
   ]
  },
  {
   "cell_type": "code",
   "execution_count": null,
   "metadata": {},
   "outputs": [],
   "source": []
  },
  {
   "cell_type": "code",
   "execution_count": 3,
   "metadata": {},
   "outputs": [
    {
     "data": {
      "text/html": [
       "<div>\n",
       "<style scoped>\n",
       "    .dataframe tbody tr th:only-of-type {\n",
       "        vertical-align: middle;\n",
       "    }\n",
       "\n",
       "    .dataframe tbody tr th {\n",
       "        vertical-align: top;\n",
       "    }\n",
       "\n",
       "    .dataframe thead th {\n",
       "        text-align: right;\n",
       "    }\n",
       "</style>\n",
       "<table border=\"1\" class=\"dataframe\">\n",
       "  <thead>\n",
       "    <tr style=\"text-align: right;\">\n",
       "      <th></th>\n",
       "      <th>Unnamed: 0</th>\n",
       "      <th>Tech Stack</th>\n",
       "      <th>BOD(mg/l)</th>\n",
       "      <th>COD(mg/l)</th>\n",
       "      <th>TSS(mg/l)</th>\n",
       "      <th>TN(mg/l)</th>\n",
       "      <th>FC(MPN/l)</th>\n",
       "      <th>Land</th>\n",
       "      <th>Power</th>\n",
       "      <th>Capital Cost</th>\n",
       "      <th>O&amp;M Cost</th>\n",
       "    </tr>\n",
       "  </thead>\n",
       "  <tbody>\n",
       "    <tr>\n",
       "      <th>0</th>\n",
       "      <td>0</td>\n",
       "      <td>SBT+None+None</td>\n",
       "      <td>4.182200</td>\n",
       "      <td>7.7602</td>\n",
       "      <td>6.739200</td>\n",
       "      <td>3.3000</td>\n",
       "      <td>99.80</td>\n",
       "      <td>50399999</td>\n",
       "      <td>261360</td>\n",
       "      <td>1718400000</td>\n",
       "      <td>172799999</td>\n",
       "    </tr>\n",
       "    <tr>\n",
       "      <th>1</th>\n",
       "      <td>1</td>\n",
       "      <td>BIOFOR-F+None+None</td>\n",
       "      <td>0.660000</td>\n",
       "      <td>2.1160</td>\n",
       "      <td>1.920000</td>\n",
       "      <td>3.3000</td>\n",
       "      <td>99.80</td>\n",
       "      <td>134400000</td>\n",
       "      <td>388800</td>\n",
       "      <td>2234400000</td>\n",
       "      <td>153600000</td>\n",
       "    </tr>\n",
       "    <tr>\n",
       "      <th>2</th>\n",
       "      <td>2</td>\n",
       "      <td>A2O+None+None</td>\n",
       "      <td>0.257400</td>\n",
       "      <td>4.1124</td>\n",
       "      <td>0.259200</td>\n",
       "      <td>2.5399</td>\n",
       "      <td>1297.40</td>\n",
       "      <td>100799999</td>\n",
       "      <td>367200</td>\n",
       "      <td>2580000000</td>\n",
       "      <td>240000000</td>\n",
       "    </tr>\n",
       "    <tr>\n",
       "      <th>3</th>\n",
       "      <td>3</td>\n",
       "      <td>SBT+MLE+None</td>\n",
       "      <td>4.182200</td>\n",
       "      <td>7.7602</td>\n",
       "      <td>6.739200</td>\n",
       "      <td>0.8085</td>\n",
       "      <td>9.98</td>\n",
       "      <td>117600000</td>\n",
       "      <td>520560</td>\n",
       "      <td>3158400000</td>\n",
       "      <td>460799999</td>\n",
       "    </tr>\n",
       "    <tr>\n",
       "      <th>4</th>\n",
       "      <td>4</td>\n",
       "      <td>SBR+None+None</td>\n",
       "      <td>0.990000</td>\n",
       "      <td>4.6000</td>\n",
       "      <td>1.039200</td>\n",
       "      <td>2.7500</td>\n",
       "      <td>99.80</td>\n",
       "      <td>92400000</td>\n",
       "      <td>324000</td>\n",
       "      <td>3223200000</td>\n",
       "      <td>153600000</td>\n",
       "    </tr>\n",
       "    <tr>\n",
       "      <th>5</th>\n",
       "      <td>5</td>\n",
       "      <td>SBT+WUHERMAN+None</td>\n",
       "      <td>0.112919</td>\n",
       "      <td>7.7602</td>\n",
       "      <td>0.040435</td>\n",
       "      <td>0.3663</td>\n",
       "      <td>9.98</td>\n",
       "      <td>117600000</td>\n",
       "      <td>520560</td>\n",
       "      <td>3398400000</td>\n",
       "      <td>460799999</td>\n",
       "    </tr>\n",
       "  </tbody>\n",
       "</table>\n",
       "</div>"
      ],
      "text/plain": [
       "   Unnamed: 0          Tech Stack  BOD(mg/l)  COD(mg/l)  TSS(mg/l)  TN(mg/l)  \\\n",
       "0           0       SBT+None+None   4.182200     7.7602   6.739200    3.3000   \n",
       "1           1  BIOFOR-F+None+None   0.660000     2.1160   1.920000    3.3000   \n",
       "2           2       A2O+None+None   0.257400     4.1124   0.259200    2.5399   \n",
       "3           3        SBT+MLE+None   4.182200     7.7602   6.739200    0.8085   \n",
       "4           4       SBR+None+None   0.990000     4.6000   1.039200    2.7500   \n",
       "5           5   SBT+WUHERMAN+None   0.112919     7.7602   0.040435    0.3663   \n",
       "\n",
       "   FC(MPN/l)       Land   Power  Capital Cost   O&M Cost  \n",
       "0      99.80   50399999  261360    1718400000  172799999  \n",
       "1      99.80  134400000  388800    2234400000  153600000  \n",
       "2    1297.40  100799999  367200    2580000000  240000000  \n",
       "3       9.98  117600000  520560    3158400000  460799999  \n",
       "4      99.80   92400000  324000    3223200000  153600000  \n",
       "5       9.98  117600000  520560    3398400000  460799999  "
      ]
     },
     "execution_count": 3,
     "metadata": {},
     "output_type": "execute_result"
    }
   ],
   "source": [
    "df"
   ]
  },
  {
   "cell_type": "code",
   "execution_count": 2,
   "metadata": {},
   "outputs": [],
   "source": [
    "tech_primary, tech_secondary, tech_tertiary, reuse_df = load_tech()"
   ]
  },
  {
   "cell_type": "code",
   "execution_count": 3,
   "metadata": {},
   "outputs": [
    {
     "data": {
      "text/plain": [
       "Index(['Tech', 'Land', 'Power', 'Capital Cost', 'O&M Cost', 'BOD(mg/l)',\n",
       "       'COD(mg/l)', 'TSS(mg/l)', 'TN(mg/l)', 'FC(MPN/l)'],\n",
       "      dtype='object')"
      ]
     },
     "execution_count": 3,
     "metadata": {},
     "output_type": "execute_result"
    }
   ],
   "source": [
    "tech_primary.columns"
   ]
  },
  {
   "cell_type": "code",
   "execution_count": 39,
   "metadata": {},
   "outputs": [],
   "source": [
    "from itertools import product\n",
    "combinations = product(*(tech_primary[\"Tech\"].to_list(), tech_secondary[\"Tech\"].to_list(), tech_tertiary[\"Tech\"].to_list()))\n",
    "coeff_df = pd.DataFrame(columns=[\"Tech Stack\"]+waste_labels+dev_labels)"
   ]
  },
  {
   "cell_type": "code",
   "execution_count": 40,
   "metadata": {},
   "outputs": [],
   "source": [
    "for p, s, t in combinations:\n",
    "    c_p = 1 - (tech_primary[tech_primary[\"Tech\"] == p][waste_labels].to_numpy()/100)\n",
    "    c_s = 1 - (tech_secondary[tech_secondary[\"Tech\"] == s][waste_labels].to_numpy()/100)\n",
    "    c_t = 1 - (tech_tertiary[tech_tertiary[\"Tech\"] == t][waste_labels].to_numpy()/100)\n",
    "\n",
    "    d_p = tech_primary[tech_primary[\"Tech\"] == p][dev_labels].to_numpy()\n",
    "    d_s = tech_secondary[tech_secondary[\"Tech\"] == s][dev_labels].to_numpy()\n",
    "    d_t = tech_tertiary[tech_tertiary[\"Tech\"] == t][dev_labels].to_numpy()\n",
    "\n",
    "    d = d_p + d_s + d_t\n",
    "\n",
    "    coeff = c_p * c_s * c_t\n",
    "    t = t.replace(\" + \", \"&\")\n",
    "    _text = f\"{p}+{s}+{t}\"\n",
    "    data = {\"Tech Stack\": _text}\n",
    "    for i, label in enumerate(waste_labels):\n",
    "        data[label] = round(coeff[0, i], 10)\n",
    "\n",
    "    for i, label in enumerate(dev_labels):\n",
    "        data[label] = d[0, i]\n",
    "\n",
    "    coeff_df = coeff_df.append(data, ignore_index=True)"
   ]
  },
  {
   "cell_type": "code",
   "execution_count": 41,
   "metadata": {},
   "outputs": [
    {
     "data": {
      "text/plain": [
       "{'Tech Stack': 'Trickling Filter+WUHERMAN+mf&ro',\n",
       " 'BOD(mg/l)': 0.0034126294,\n",
       " 'COD(mg/l)': 0.20613822,\n",
       " 'TSS(mg/l)': 0.0001684763,\n",
       " 'TN(mg/l)': 0.074925,\n",
       " 'FC(MPN/l)': 1e-06,\n",
       " 'Land': 0.62,\n",
       " 'Power': 450.0,\n",
       " 'Capital Cost': 31.18,\n",
       " 'O&M Cost': 2.0700000000000003}"
      ]
     },
     "execution_count": 41,
     "metadata": {},
     "output_type": "execute_result"
    }
   ],
   "source": [
    "data"
   ]
  },
  {
   "cell_type": "code",
   "execution_count": 42,
   "metadata": {},
   "outputs": [
    {
     "data": {
      "text/html": [
       "<div>\n",
       "<style scoped>\n",
       "    .dataframe tbody tr th:only-of-type {\n",
       "        vertical-align: middle;\n",
       "    }\n",
       "\n",
       "    .dataframe tbody tr th {\n",
       "        vertical-align: top;\n",
       "    }\n",
       "\n",
       "    .dataframe thead th {\n",
       "        text-align: right;\n",
       "    }\n",
       "</style>\n",
       "<table border=\"1\" class=\"dataframe\">\n",
       "  <thead>\n",
       "    <tr style=\"text-align: right;\">\n",
       "      <th></th>\n",
       "      <th>Tech Stack</th>\n",
       "      <th>BOD(mg/l)</th>\n",
       "      <th>COD(mg/l)</th>\n",
       "      <th>TSS(mg/l)</th>\n",
       "      <th>TN(mg/l)</th>\n",
       "      <th>FC(MPN/l)</th>\n",
       "      <th>Land</th>\n",
       "      <th>Power</th>\n",
       "      <th>Capital Cost</th>\n",
       "      <th>O&amp;M Cost</th>\n",
       "    </tr>\n",
       "  </thead>\n",
       "  <tbody>\n",
       "    <tr>\n",
       "      <th>0</th>\n",
       "      <td>ASP+None+None</td>\n",
       "      <td>0.216300</td>\n",
       "      <td>0.159100</td>\n",
       "      <td>0.122400</td>\n",
       "      <td>0.900000</td>\n",
       "      <td>0.099800</td>\n",
       "      <td>0.200</td>\n",
       "      <td>202.5</td>\n",
       "      <td>5.37</td>\n",
       "      <td>0.40</td>\n",
       "    </tr>\n",
       "    <tr>\n",
       "      <th>1</th>\n",
       "      <td>ASP+None+Coagulation&amp;Flocculation</td>\n",
       "      <td>0.075705</td>\n",
       "      <td>0.074777</td>\n",
       "      <td>0.058581</td>\n",
       "      <td>0.900000</td>\n",
       "      <td>0.019960</td>\n",
       "      <td>0.300</td>\n",
       "      <td>342.5</td>\n",
       "      <td>8.95</td>\n",
       "      <td>1.30</td>\n",
       "    </tr>\n",
       "    <tr>\n",
       "      <th>2</th>\n",
       "      <td>ASP+None+uf&amp;ro</td>\n",
       "      <td>0.058855</td>\n",
       "      <td>0.062097</td>\n",
       "      <td>0.018360</td>\n",
       "      <td>0.630000</td>\n",
       "      <td>0.000010</td>\n",
       "      <td>0.250</td>\n",
       "      <td>382.5</td>\n",
       "      <td>23.28</td>\n",
       "      <td>1.47</td>\n",
       "    </tr>\n",
       "    <tr>\n",
       "      <th>3</th>\n",
       "      <td>ASP+None+mf&amp;ro</td>\n",
       "      <td>0.095691</td>\n",
       "      <td>0.092803</td>\n",
       "      <td>0.029400</td>\n",
       "      <td>0.675000</td>\n",
       "      <td>0.000010</td>\n",
       "      <td>0.280</td>\n",
       "      <td>352.5</td>\n",
       "      <td>21.49</td>\n",
       "      <td>1.47</td>\n",
       "    </tr>\n",
       "    <tr>\n",
       "      <th>4</th>\n",
       "      <td>ASP+MLE+None</td>\n",
       "      <td>0.216300</td>\n",
       "      <td>0.159100</td>\n",
       "      <td>0.122400</td>\n",
       "      <td>0.220500</td>\n",
       "      <td>0.009980</td>\n",
       "      <td>0.240</td>\n",
       "      <td>322.5</td>\n",
       "      <td>11.37</td>\n",
       "      <td>1.00</td>\n",
       "    </tr>\n",
       "    <tr>\n",
       "      <th>...</th>\n",
       "      <td>...</td>\n",
       "      <td>...</td>\n",
       "      <td>...</td>\n",
       "      <td>...</td>\n",
       "      <td>...</td>\n",
       "      <td>...</td>\n",
       "      <td>...</td>\n",
       "      <td>...</td>\n",
       "      <td>...</td>\n",
       "      <td>...</td>\n",
       "    </tr>\n",
       "    <tr>\n",
       "      <th>355</th>\n",
       "      <td>Trickling Filter+BARDENPH+mf&amp;ro</td>\n",
       "      <td>0.126394</td>\n",
       "      <td>0.206138</td>\n",
       "      <td>0.028079</td>\n",
       "      <td>0.253125</td>\n",
       "      <td>0.000001</td>\n",
       "      <td>0.679</td>\n",
       "      <td>480.0</td>\n",
       "      <td>32.18</td>\n",
       "      <td>1.67</td>\n",
       "    </tr>\n",
       "    <tr>\n",
       "      <th>356</th>\n",
       "      <td>Trickling Filter+WUHERMAN+None</td>\n",
       "      <td>0.007714</td>\n",
       "      <td>0.353400</td>\n",
       "      <td>0.000701</td>\n",
       "      <td>0.099900</td>\n",
       "      <td>0.010000</td>\n",
       "      <td>0.540</td>\n",
       "      <td>300.0</td>\n",
       "      <td>15.06</td>\n",
       "      <td>1.00</td>\n",
       "    </tr>\n",
       "    <tr>\n",
       "      <th>357</th>\n",
       "      <td>Trickling Filter+WUHERMAN+Coagulation&amp;Floccula...</td>\n",
       "      <td>0.002700</td>\n",
       "      <td>0.166098</td>\n",
       "      <td>0.000336</td>\n",
       "      <td>0.099900</td>\n",
       "      <td>0.002000</td>\n",
       "      <td>0.640</td>\n",
       "      <td>440.0</td>\n",
       "      <td>18.64</td>\n",
       "      <td>1.90</td>\n",
       "    </tr>\n",
       "    <tr>\n",
       "      <th>358</th>\n",
       "      <td>Trickling Filter+WUHERMAN+uf&amp;ro</td>\n",
       "      <td>0.002099</td>\n",
       "      <td>0.137932</td>\n",
       "      <td>0.000105</td>\n",
       "      <td>0.069930</td>\n",
       "      <td>0.000001</td>\n",
       "      <td>0.590</td>\n",
       "      <td>480.0</td>\n",
       "      <td>32.97</td>\n",
       "      <td>2.07</td>\n",
       "    </tr>\n",
       "    <tr>\n",
       "      <th>359</th>\n",
       "      <td>Trickling Filter+WUHERMAN+mf&amp;ro</td>\n",
       "      <td>0.003413</td>\n",
       "      <td>0.206138</td>\n",
       "      <td>0.000168</td>\n",
       "      <td>0.074925</td>\n",
       "      <td>0.000001</td>\n",
       "      <td>0.620</td>\n",
       "      <td>450.0</td>\n",
       "      <td>31.18</td>\n",
       "      <td>2.07</td>\n",
       "    </tr>\n",
       "  </tbody>\n",
       "</table>\n",
       "<p>360 rows × 10 columns</p>\n",
       "</div>"
      ],
      "text/plain": [
       "                                            Tech Stack  BOD(mg/l)  COD(mg/l)  \\\n",
       "0                                        ASP+None+None   0.216300   0.159100   \n",
       "1                    ASP+None+Coagulation&Flocculation   0.075705   0.074777   \n",
       "2                                       ASP+None+uf&ro   0.058855   0.062097   \n",
       "3                                       ASP+None+mf&ro   0.095691   0.092803   \n",
       "4                                         ASP+MLE+None   0.216300   0.159100   \n",
       "..                                                 ...        ...        ...   \n",
       "355                    Trickling Filter+BARDENPH+mf&ro   0.126394   0.206138   \n",
       "356                     Trickling Filter+WUHERMAN+None   0.007714   0.353400   \n",
       "357  Trickling Filter+WUHERMAN+Coagulation&Floccula...   0.002700   0.166098   \n",
       "358                    Trickling Filter+WUHERMAN+uf&ro   0.002099   0.137932   \n",
       "359                    Trickling Filter+WUHERMAN+mf&ro   0.003413   0.206138   \n",
       "\n",
       "     TSS(mg/l)  TN(mg/l)  FC(MPN/l)   Land  Power  Capital Cost  O&M Cost  \n",
       "0     0.122400  0.900000   0.099800  0.200  202.5          5.37      0.40  \n",
       "1     0.058581  0.900000   0.019960  0.300  342.5          8.95      1.30  \n",
       "2     0.018360  0.630000   0.000010  0.250  382.5         23.28      1.47  \n",
       "3     0.029400  0.675000   0.000010  0.280  352.5         21.49      1.47  \n",
       "4     0.122400  0.220500   0.009980  0.240  322.5         11.37      1.00  \n",
       "..         ...       ...        ...    ...    ...           ...       ...  \n",
       "355   0.028079  0.253125   0.000001  0.679  480.0         32.18      1.67  \n",
       "356   0.000701  0.099900   0.010000  0.540  300.0         15.06      1.00  \n",
       "357   0.000336  0.099900   0.002000  0.640  440.0         18.64      1.90  \n",
       "358   0.000105  0.069930   0.000001  0.590  480.0         32.97      2.07  \n",
       "359   0.000168  0.074925   0.000001  0.620  450.0         31.18      2.07  \n",
       "\n",
       "[360 rows x 10 columns]"
      ]
     },
     "execution_count": 42,
     "metadata": {},
     "output_type": "execute_result"
    }
   ],
   "source": [
    "coeff_df"
   ]
  },
  {
   "cell_type": "code",
   "execution_count": 43,
   "metadata": {},
   "outputs": [],
   "source": [
    "coeff_df.to_csv(\"./dataframes/tech_stack_coeff.csv\", index=False)"
   ]
  },
  {
   "cell_type": "code",
   "execution_count": 12,
   "metadata": {},
   "outputs": [],
   "source": [
    "import numpy as np"
   ]
  },
  {
   "cell_type": "code",
   "execution_count": 44,
   "metadata": {},
   "outputs": [
    {
     "data": {
      "text/plain": [
       "0     1\n",
       "1     2\n",
       "2    45\n",
       "dtype: int64"
      ]
     },
     "execution_count": 44,
     "metadata": {},
     "output_type": "execute_result"
    }
   ],
   "source": [
    "pd.Series([1,2,45])"
   ]
  },
  {
   "cell_type": "code",
   "execution_count": 47,
   "metadata": {},
   "outputs": [],
   "source": [
    "import numpy as np"
   ]
  },
  {
   "cell_type": "code",
   "execution_count": 51,
   "metadata": {},
   "outputs": [],
   "source": [
    "\n",
    "desired_reuse = {\n",
    "  \"BOD(mg/l)\": 10,\n",
    "  \"COD(mg/l)\": 30,\n",
    "  \"TSS(mg/l)\": 10,\n",
    "  \"TN(mg/l)\": 10,\n",
    "  \"FC(MPN/l)\": 2000\n",
    "}\n",
    "raw_waste_inputs = {\n",
    "  \"BOD(mg/l)\": 21,\n",
    "  \"COD(mg/l)\": 45,\n",
    "  \"TSS(mg/l)\": 24,\n",
    "  \"TN(mg/l)\": 10,\n",
    "  \"FC(MPN/l)\": 998000\n",
    "}\n",
    "desired_reuse_array = np.array([[v for k, v in desired_reuse.items()] for _ in range(len(coeff_df))])\n",
    "raw_waste_array = np.array([[v for k, v in raw_waste_inputs.items()] for _ in range(len(coeff_df))])\n",
    "after_treatment = coeff_df[waste_labels] * raw_waste_array"
   ]
  },
  {
   "cell_type": "code",
   "execution_count": 60,
   "metadata": {},
   "outputs": [
    {
     "data": {
      "text/plain": [
       "True"
      ]
     },
     "execution_count": 60,
     "metadata": {},
     "output_type": "execute_result"
    }
   ],
   "source": [
    "np.all(after_treatment.to_numpy()[i] < desired_reuse_array[i])"
   ]
  },
  {
   "cell_type": "code",
   "execution_count": 63,
   "metadata": {},
   "outputs": [
    {
     "data": {
      "text/plain": [
       "0      False\n",
       "1      False\n",
       "2       True\n",
       "3       True\n",
       "4      False\n",
       "       ...  \n",
       "355     True\n",
       "356    False\n",
       "357     True\n",
       "358     True\n",
       "359     True\n",
       "Length: 360, dtype: bool"
      ]
     },
     "execution_count": 63,
     "metadata": {},
     "output_type": "execute_result"
    }
   ],
   "source": [
    "s = []\n",
    "\n",
    "for i in range(len(coeff_df)):\n",
    "    s.append(np.all(after_treatment.to_numpy()[i] < desired_reuse_array[i]))\n",
    "\n",
    "pd.Series(s)"
   ]
  }
 ],
 "metadata": {
  "kernelspec": {
   "display_name": "Python 3.8.7 64-bit",
   "language": "python",
   "name": "python3"
  },
  "language_info": {
   "codemirror_mode": {
    "name": "ipython",
    "version": 3
   },
   "file_extension": ".py",
   "mimetype": "text/x-python",
   "name": "python",
   "nbconvert_exporter": "python",
   "pygments_lexer": "ipython3",
   "version": "3.8.7"
  },
  "orig_nbformat": 4,
  "vscode": {
   "interpreter": {
    "hash": "063da5ec96525b703b2b4b88ba5015678e29341c0c783b18b72decb99d23a1d2"
   }
  }
 },
 "nbformat": 4,
 "nbformat_minor": 2
}
