{
 "cells": [
  {
   "cell_type": "code",
   "execution_count": 1,
   "metadata": {},
   "outputs": [],
   "source": [
    "import pandas as pd\n",
    "def load_tech():\n",
    "    return (\n",
    "        pd.read_csv(\"./dataframes/tech_coeff_pri.csv\"), \n",
    "        pd.read_csv(\"./dataframes/tech_coeff_sec.csv\"),\n",
    "        pd.read_csv(\"./dataframes/tech_coeff_ter.csv\"),\n",
    "        pd.read_csv(\"./dataframes/reuse.csv\")\n",
    "        )"
   ]
  },
  {
   "cell_type": "code",
   "execution_count": 2,
   "metadata": {},
   "outputs": [],
   "source": [
    "tech_primary, tech_secondary, tech_tertiary, reuse_df = load_tech()"
   ]
  },
  {
   "cell_type": "code",
   "execution_count": 3,
   "metadata": {},
   "outputs": [
    {
     "data": {
      "text/plain": [
       "Index(['Tech', 'Land', 'Power', 'Capital Cost', 'O&M Cost', 'BOD(mg/l)',\n",
       "       'COD(mg/l)', 'TSS(mg/l)', 'TN(mg/l)', 'FC(MPN/l)'],\n",
       "      dtype='object')"
      ]
     },
     "execution_count": 3,
     "metadata": {},
     "output_type": "execute_result"
    }
   ],
   "source": [
    "tech_primary.columns"
   ]
  },
  {
   "cell_type": "code",
   "execution_count": 7,
   "metadata": {},
   "outputs": [],
   "source": [
    "waste_labels = [\"BOD(mg/l)\", \"COD(mg/l)\", \"TSS(mg/l)\", \"TN(mg/l)\", \"FC(MPN/l)\"]\n",
    "dev_labels = ['Land', 'Power', 'Capital Cost', 'O&M Cost']"
   ]
  },
  {
   "cell_type": "code",
   "execution_count": 39,
   "metadata": {},
   "outputs": [],
   "source": [
    "from itertools import product\n",
    "combinations = product(*(tech_primary[\"Tech\"].to_list(), tech_secondary[\"Tech\"].to_list(), tech_tertiary[\"Tech\"].to_list()))\n",
    "coeff_df = pd.DataFrame(columns=[\"Tech Stack\"]+waste_labels+dev_labels)"
   ]
  },
  {
   "cell_type": "code",
   "execution_count": 40,
   "metadata": {},
   "outputs": [],
   "source": [
    "for p, s, t in combinations:\n",
    "    c_p = 1 - (tech_primary[tech_primary[\"Tech\"] == p][waste_labels].to_numpy()/100)\n",
    "    c_s = 1 - (tech_secondary[tech_secondary[\"Tech\"] == s][waste_labels].to_numpy()/100)\n",
    "    c_t = 1 - (tech_tertiary[tech_tertiary[\"Tech\"] == t][waste_labels].to_numpy()/100)\n",
    "\n",
    "    d_p = tech_primary[tech_primary[\"Tech\"] == p][dev_labels].to_numpy()\n",
    "    d_s = tech_secondary[tech_secondary[\"Tech\"] == s][dev_labels].to_numpy()\n",
    "    d_t = tech_tertiary[tech_tertiary[\"Tech\"] == t][dev_labels].to_numpy()\n",
    "\n",
    "    d = d_p + d_s + d_t\n",
    "\n",
    "    coeff = c_p * c_s * c_t\n",
    "    t = t.replace(\" + \", \"&\")\n",
    "    _text = f\"{p}+{s}+{t}\"\n",
    "    data = {\"Tech Stack\": _text}\n",
    "    for i, label in enumerate(waste_labels):\n",
    "        data[label] = round(coeff[0, i], 10)\n",
    "\n",
    "    for i, label in enumerate(dev_labels):\n",
    "        data[label] = d[0, i]\n",
    "\n",
    "    coeff_df = coeff_df.append(data, ignore_index=True)"
   ]
  },
  {
   "cell_type": "code",
   "execution_count": 41,
   "metadata": {},
   "outputs": [
    {
     "data": {
      "text/plain": [
       "{'Tech Stack': 'Trickling Filter+WUHERMAN+mf&ro',\n",
       " 'BOD(mg/l)': 0.0034126294,\n",
       " 'COD(mg/l)': 0.20613822,\n",
       " 'TSS(mg/l)': 0.0001684763,\n",
       " 'TN(mg/l)': 0.074925,\n",
       " 'FC(MPN/l)': 1e-06,\n",
       " 'Land': 0.62,\n",
       " 'Power': 450.0,\n",
       " 'Capital Cost': 31.18,\n",
       " 'O&M Cost': 2.0700000000000003}"
      ]
     },
     "execution_count": 41,
     "metadata": {},
     "output_type": "execute_result"
    }
   ],
   "source": [
    "data"
   ]
  },
  {
   "cell_type": "code",
   "execution_count": 42,
   "metadata": {},
   "outputs": [
    {
     "data": {
      "text/html": [
       "<div>\n",
       "<style scoped>\n",
       "    .dataframe tbody tr th:only-of-type {\n",
       "        vertical-align: middle;\n",
       "    }\n",
       "\n",
       "    .dataframe tbody tr th {\n",
       "        vertical-align: top;\n",
       "    }\n",
       "\n",
       "    .dataframe thead th {\n",
       "        text-align: right;\n",
       "    }\n",
       "</style>\n",
       "<table border=\"1\" class=\"dataframe\">\n",
       "  <thead>\n",
       "    <tr style=\"text-align: right;\">\n",
       "      <th></th>\n",
       "      <th>Tech Stack</th>\n",
       "      <th>BOD(mg/l)</th>\n",
       "      <th>COD(mg/l)</th>\n",
       "      <th>TSS(mg/l)</th>\n",
       "      <th>TN(mg/l)</th>\n",
       "      <th>FC(MPN/l)</th>\n",
       "      <th>Land</th>\n",
       "      <th>Power</th>\n",
       "      <th>Capital Cost</th>\n",
       "      <th>O&amp;M Cost</th>\n",
       "    </tr>\n",
       "  </thead>\n",
       "  <tbody>\n",
       "    <tr>\n",
       "      <th>0</th>\n",
       "      <td>ASP+None+None</td>\n",
       "      <td>0.216300</td>\n",
       "      <td>0.159100</td>\n",
       "      <td>0.122400</td>\n",
       "      <td>0.900000</td>\n",
       "      <td>0.099800</td>\n",
       "      <td>0.200</td>\n",
       "      <td>202.5</td>\n",
       "      <td>5.37</td>\n",
       "      <td>0.40</td>\n",
       "    </tr>\n",
       "    <tr>\n",
       "      <th>1</th>\n",
       "      <td>ASP+None+Coagulation&amp;Flocculation</td>\n",
       "      <td>0.075705</td>\n",
       "      <td>0.074777</td>\n",
       "      <td>0.058581</td>\n",
       "      <td>0.900000</td>\n",
       "      <td>0.019960</td>\n",
       "      <td>0.300</td>\n",
       "      <td>342.5</td>\n",
       "      <td>8.95</td>\n",
       "      <td>1.30</td>\n",
       "    </tr>\n",
       "    <tr>\n",
       "      <th>2</th>\n",
       "      <td>ASP+None+uf&amp;ro</td>\n",
       "      <td>0.058855</td>\n",
       "      <td>0.062097</td>\n",
       "      <td>0.018360</td>\n",
       "      <td>0.630000</td>\n",
       "      <td>0.000010</td>\n",
       "      <td>0.250</td>\n",
       "      <td>382.5</td>\n",
       "      <td>23.28</td>\n",
       "      <td>1.47</td>\n",
       "    </tr>\n",
       "    <tr>\n",
       "      <th>3</th>\n",
       "      <td>ASP+None+mf&amp;ro</td>\n",
       "      <td>0.095691</td>\n",
       "      <td>0.092803</td>\n",
       "      <td>0.029400</td>\n",
       "      <td>0.675000</td>\n",
       "      <td>0.000010</td>\n",
       "      <td>0.280</td>\n",
       "      <td>352.5</td>\n",
       "      <td>21.49</td>\n",
       "      <td>1.47</td>\n",
       "    </tr>\n",
       "    <tr>\n",
       "      <th>4</th>\n",
       "      <td>ASP+MLE+None</td>\n",
       "      <td>0.216300</td>\n",
       "      <td>0.159100</td>\n",
       "      <td>0.122400</td>\n",
       "      <td>0.220500</td>\n",
       "      <td>0.009980</td>\n",
       "      <td>0.240</td>\n",
       "      <td>322.5</td>\n",
       "      <td>11.37</td>\n",
       "      <td>1.00</td>\n",
       "    </tr>\n",
       "    <tr>\n",
       "      <th>...</th>\n",
       "      <td>...</td>\n",
       "      <td>...</td>\n",
       "      <td>...</td>\n",
       "      <td>...</td>\n",
       "      <td>...</td>\n",
       "      <td>...</td>\n",
       "      <td>...</td>\n",
       "      <td>...</td>\n",
       "      <td>...</td>\n",
       "      <td>...</td>\n",
       "    </tr>\n",
       "    <tr>\n",
       "      <th>355</th>\n",
       "      <td>Trickling Filter+BARDENPH+mf&amp;ro</td>\n",
       "      <td>0.126394</td>\n",
       "      <td>0.206138</td>\n",
       "      <td>0.028079</td>\n",
       "      <td>0.253125</td>\n",
       "      <td>0.000001</td>\n",
       "      <td>0.679</td>\n",
       "      <td>480.0</td>\n",
       "      <td>32.18</td>\n",
       "      <td>1.67</td>\n",
       "    </tr>\n",
       "    <tr>\n",
       "      <th>356</th>\n",
       "      <td>Trickling Filter+WUHERMAN+None</td>\n",
       "      <td>0.007714</td>\n",
       "      <td>0.353400</td>\n",
       "      <td>0.000701</td>\n",
       "      <td>0.099900</td>\n",
       "      <td>0.010000</td>\n",
       "      <td>0.540</td>\n",
       "      <td>300.0</td>\n",
       "      <td>15.06</td>\n",
       "      <td>1.00</td>\n",
       "    </tr>\n",
       "    <tr>\n",
       "      <th>357</th>\n",
       "      <td>Trickling Filter+WUHERMAN+Coagulation&amp;Floccula...</td>\n",
       "      <td>0.002700</td>\n",
       "      <td>0.166098</td>\n",
       "      <td>0.000336</td>\n",
       "      <td>0.099900</td>\n",
       "      <td>0.002000</td>\n",
       "      <td>0.640</td>\n",
       "      <td>440.0</td>\n",
       "      <td>18.64</td>\n",
       "      <td>1.90</td>\n",
       "    </tr>\n",
       "    <tr>\n",
       "      <th>358</th>\n",
       "      <td>Trickling Filter+WUHERMAN+uf&amp;ro</td>\n",
       "      <td>0.002099</td>\n",
       "      <td>0.137932</td>\n",
       "      <td>0.000105</td>\n",
       "      <td>0.069930</td>\n",
       "      <td>0.000001</td>\n",
       "      <td>0.590</td>\n",
       "      <td>480.0</td>\n",
       "      <td>32.97</td>\n",
       "      <td>2.07</td>\n",
       "    </tr>\n",
       "    <tr>\n",
       "      <th>359</th>\n",
       "      <td>Trickling Filter+WUHERMAN+mf&amp;ro</td>\n",
       "      <td>0.003413</td>\n",
       "      <td>0.206138</td>\n",
       "      <td>0.000168</td>\n",
       "      <td>0.074925</td>\n",
       "      <td>0.000001</td>\n",
       "      <td>0.620</td>\n",
       "      <td>450.0</td>\n",
       "      <td>31.18</td>\n",
       "      <td>2.07</td>\n",
       "    </tr>\n",
       "  </tbody>\n",
       "</table>\n",
       "<p>360 rows × 10 columns</p>\n",
       "</div>"
      ],
      "text/plain": [
       "                                            Tech Stack  BOD(mg/l)  COD(mg/l)  \\\n",
       "0                                        ASP+None+None   0.216300   0.159100   \n",
       "1                    ASP+None+Coagulation&Flocculation   0.075705   0.074777   \n",
       "2                                       ASP+None+uf&ro   0.058855   0.062097   \n",
       "3                                       ASP+None+mf&ro   0.095691   0.092803   \n",
       "4                                         ASP+MLE+None   0.216300   0.159100   \n",
       "..                                                 ...        ...        ...   \n",
       "355                    Trickling Filter+BARDENPH+mf&ro   0.126394   0.206138   \n",
       "356                     Trickling Filter+WUHERMAN+None   0.007714   0.353400   \n",
       "357  Trickling Filter+WUHERMAN+Coagulation&Floccula...   0.002700   0.166098   \n",
       "358                    Trickling Filter+WUHERMAN+uf&ro   0.002099   0.137932   \n",
       "359                    Trickling Filter+WUHERMAN+mf&ro   0.003413   0.206138   \n",
       "\n",
       "     TSS(mg/l)  TN(mg/l)  FC(MPN/l)   Land  Power  Capital Cost  O&M Cost  \n",
       "0     0.122400  0.900000   0.099800  0.200  202.5          5.37      0.40  \n",
       "1     0.058581  0.900000   0.019960  0.300  342.5          8.95      1.30  \n",
       "2     0.018360  0.630000   0.000010  0.250  382.5         23.28      1.47  \n",
       "3     0.029400  0.675000   0.000010  0.280  352.5         21.49      1.47  \n",
       "4     0.122400  0.220500   0.009980  0.240  322.5         11.37      1.00  \n",
       "..         ...       ...        ...    ...    ...           ...       ...  \n",
       "355   0.028079  0.253125   0.000001  0.679  480.0         32.18      1.67  \n",
       "356   0.000701  0.099900   0.010000  0.540  300.0         15.06      1.00  \n",
       "357   0.000336  0.099900   0.002000  0.640  440.0         18.64      1.90  \n",
       "358   0.000105  0.069930   0.000001  0.590  480.0         32.97      2.07  \n",
       "359   0.000168  0.074925   0.000001  0.620  450.0         31.18      2.07  \n",
       "\n",
       "[360 rows x 10 columns]"
      ]
     },
     "execution_count": 42,
     "metadata": {},
     "output_type": "execute_result"
    }
   ],
   "source": [
    "coeff_df"
   ]
  },
  {
   "cell_type": "code",
   "execution_count": 43,
   "metadata": {},
   "outputs": [],
   "source": [
    "coeff_df.to_csv(\"./dataframes/tech_stack_coeff.csv\", index=False)"
   ]
  },
  {
   "cell_type": "code",
   "execution_count": 12,
   "metadata": {},
   "outputs": [],
   "source": [
    "import numpy as np"
   ]
  },
  {
   "cell_type": "code",
   "execution_count": 44,
   "metadata": {},
   "outputs": [
    {
     "data": {
      "text/plain": [
       "0     1\n",
       "1     2\n",
       "2    45\n",
       "dtype: int64"
      ]
     },
     "execution_count": 44,
     "metadata": {},
     "output_type": "execute_result"
    }
   ],
   "source": [
    "pd.Series([1,2,45])"
   ]
  },
  {
   "cell_type": "code",
   "execution_count": 47,
   "metadata": {},
   "outputs": [],
   "source": [
    "import numpy as np"
   ]
  },
  {
   "cell_type": "code",
   "execution_count": 51,
   "metadata": {},
   "outputs": [],
   "source": [
    "\n",
    "desired_reuse = {\n",
    "  \"BOD(mg/l)\": 10,\n",
    "  \"COD(mg/l)\": 30,\n",
    "  \"TSS(mg/l)\": 10,\n",
    "  \"TN(mg/l)\": 10,\n",
    "  \"FC(MPN/l)\": 2000\n",
    "}\n",
    "raw_waste_inputs = {\n",
    "  \"BOD(mg/l)\": 21,\n",
    "  \"COD(mg/l)\": 45,\n",
    "  \"TSS(mg/l)\": 24,\n",
    "  \"TN(mg/l)\": 10,\n",
    "  \"FC(MPN/l)\": 998000\n",
    "}\n",
    "desired_reuse_array = np.array([[v for k, v in desired_reuse.items()] for _ in range(len(coeff_df))])\n",
    "raw_waste_array = np.array([[v for k, v in raw_waste_inputs.items()] for _ in range(len(coeff_df))])\n",
    "after_treatment = coeff_df[waste_labels] * raw_waste_array"
   ]
  },
  {
   "cell_type": "code",
   "execution_count": 60,
   "metadata": {},
   "outputs": [
    {
     "data": {
      "text/plain": [
       "True"
      ]
     },
     "execution_count": 60,
     "metadata": {},
     "output_type": "execute_result"
    }
   ],
   "source": [
    "np.all(after_treatment.to_numpy()[i] < desired_reuse_array[i])"
   ]
  },
  {
   "cell_type": "code",
   "execution_count": 63,
   "metadata": {},
   "outputs": [
    {
     "data": {
      "text/plain": [
       "0      False\n",
       "1      False\n",
       "2       True\n",
       "3       True\n",
       "4      False\n",
       "       ...  \n",
       "355     True\n",
       "356    False\n",
       "357     True\n",
       "358     True\n",
       "359     True\n",
       "Length: 360, dtype: bool"
      ]
     },
     "execution_count": 63,
     "metadata": {},
     "output_type": "execute_result"
    }
   ],
   "source": [
    "s = []\n",
    "\n",
    "for i in range(len(coeff_df)):\n",
    "    s.append(np.all(after_treatment.to_numpy()[i] < desired_reuse_array[i]))\n",
    "\n",
    "pd.Series(s)"
   ]
  }
 ],
 "metadata": {
  "kernelspec": {
   "display_name": "Python 3.8.7 64-bit",
   "language": "python",
   "name": "python3"
  },
  "language_info": {
   "codemirror_mode": {
    "name": "ipython",
    "version": 3
   },
   "file_extension": ".py",
   "mimetype": "text/x-python",
   "name": "python",
   "nbconvert_exporter": "python",
   "pygments_lexer": "ipython3",
   "version": "3.8.7"
  },
  "orig_nbformat": 4,
  "vscode": {
   "interpreter": {
    "hash": "063da5ec96525b703b2b4b88ba5015678e29341c0c783b18b72decb99d23a1d2"
   }
  }
 },
 "nbformat": 4,
 "nbformat_minor": 2
}
